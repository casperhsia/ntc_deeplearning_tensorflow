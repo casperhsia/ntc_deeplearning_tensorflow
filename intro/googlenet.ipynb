{
 "cells": [
  {
   "cell_type": "code",
   "execution_count": 1,
   "metadata": {
    "collapsed": true
   },
   "outputs": [],
   "source": [
    "from cStringIO import StringIO\n",
    "import numpy as np\n",
    "import PIL.Image\n",
    "import json\n",
    "import tensorflow as tf\n",
    "\n",
    "\n",
    "\n",
    "model_fn = 'tensorflow_inception_graph.pb'\n",
    "\n",
    "graph = tf.Graph()\n",
    "sess = tf.InteractiveSession(graph=graph)\n",
    "graph_def = tf.GraphDef.FromString(open(model_fn).read())\n",
    "t_input = tf.placeholder(np.float32, name='input')  # define the input tensor\n",
    "imagenet_mean = 139\n",
    "t_preprocessed = tf.expand_dims(t_input - imagenet_mean, 0)\n",
    "tf.import_graph_def(graph_def, {'input': t_preprocessed})\n",
    "t_output = graph.get_tensor_by_name(\"import/output2:0\")\n",
    "\n",
    "f = open(\"label.json\")\n",
    "labels = json.loads(\"\".join(f.readlines()))\n"
   ]
  },
  {
   "cell_type": "code",
   "execution_count": 2,
   "metadata": {
    "collapsed": true
   },
   "outputs": [],
   "source": [
    "\n",
    "def load_image(imgfile):\n",
    "    return np.float32(PIL.Image.open(imgfile).resize((224,224)))\n",
    "\n",
    "def get_class(image):\n",
    "    return labels[str(np.argmax(sess.run([t_output], {t_input: load_image(image)})))]\n",
    "\n",
    "\n"
   ]
  },
  {
   "cell_type": "code",
   "execution_count": 4,
   "metadata": {
    "collapsed": false
   },
   "outputs": [
    {
     "name": "stdout",
     "output_type": "stream",
     "text": [
      "weasel\n",
      "shopping cart\n",
      "goldfish, Carassius auratus\n",
      "dumbbell\n"
     ]
    }
   ],
   "source": [
    "print get_class('img/weasel.jpg')\n",
    "print get_class('img/shopping_cart.jpeg')\n",
    "print get_class('img/goldfish.jpeg')\n",
    "print get_class('img/dumpbell.jpeg')"
   ]
  },
  {
   "cell_type": "code",
   "execution_count": null,
   "metadata": {
    "collapsed": true
   },
   "outputs": [],
   "source": []
  }
 ],
 "metadata": {
  "kernelspec": {
   "display_name": "Python 2",
   "language": "python",
   "name": "python2"
  },
  "language_info": {
   "codemirror_mode": {
    "name": "ipython",
    "version": 2
   },
   "file_extension": ".py",
   "mimetype": "text/x-python",
   "name": "python",
   "nbconvert_exporter": "python",
   "pygments_lexer": "ipython2",
   "version": "2.7.10"
  }
 },
 "nbformat": 4,
 "nbformat_minor": 0
}
