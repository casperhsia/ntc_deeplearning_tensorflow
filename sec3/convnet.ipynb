{
 "cells": [
  {
   "cell_type": "markdown",
   "metadata": {},
   "source": [
    "# 卷積神經網路實作"
   ]
  },
  {
   "cell_type": "markdown",
   "metadata": {},
   "source": [
    "## 載入套件"
   ]
  },
  {
   "cell_type": "code",
   "execution_count": 1,
   "metadata": {
    "collapsed": false
   },
   "outputs": [
    {
     "name": "stdout",
     "output_type": "stream",
     "text": [
      "Extracting MNIST_data/train-images-idx3-ubyte.gz\n",
      "Extracting MNIST_data/train-labels-idx1-ubyte.gz\n",
      "Extracting MNIST_data/t10k-images-idx3-ubyte.gz\n",
      "Extracting MNIST_data/t10k-labels-idx1-ubyte.gz\n"
     ]
    }
   ],
   "source": [
    "import tensorflow as tf\n",
    "import input_data\n",
    "\n",
    "mnist = input_data.read_data_sets('MNIST_data', one_hot=True)"
   ]
  },
  {
   "cell_type": "markdown",
   "metadata": {},
   "source": [
    "## 訓練資料"
   ]
  },
  {
   "cell_type": "code",
   "execution_count": 2,
   "metadata": {
    "collapsed": true
   },
   "outputs": [],
   "source": [
    "batch_xs, batch_ys = mnist.train.next_batch(5)"
   ]
  },
  {
   "cell_type": "code",
   "execution_count": 3,
   "metadata": {
    "collapsed": true
   },
   "outputs": [],
   "source": [
    "def weight_variable(shape):\n",
    "    initial = tf.truncated_normal(shape, stddev=0.1)\n",
    "    return tf.Variable(initial)\n",
    "def bias_variable(shape):\n",
    "    initial = tf.constant(0.1, shape=shape)\n",
    "    return tf.Variable(initial)\n",
    "def conv2d(x, W):\n",
    "    return tf.nn.conv2d(x, W, strides=[1, 1, 1, 1], padding='SAME')\n",
    "def max_pool_2x2(x):\n",
    "    return tf.nn.max_pool(x, ksize=[1, 2, 2, 1],\n",
    "                        strides=[1, 2, 2, 1], padding='SAME')"
   ]
  },
  {
   "cell_type": "markdown",
   "metadata": {},
   "source": [
    "## 建立Computational Graph"
   ]
  },
  {
   "cell_type": "code",
   "execution_count": 4,
   "metadata": {
    "collapsed": false
   },
   "outputs": [],
   "source": [
    "x_ = tf.placeholder(tf.float32, [None, 784], name=\"x_\")\n",
    "y_ = tf.placeholder(tf.float32, [None, 10], name=\"y_\")\n",
    "\n",
    "\n",
    "x_image = tf.reshape(x_, [-1,28,28,1])\n",
    "\n",
    "W_conv1 = weight_variable([5, 5, 1, 32])\n",
    "b_conv1 = bias_variable([32])\n",
    "h_conv1 = tf.nn.relu(conv2d(x_image, W_conv1) + b_conv1)\n",
    "h_pool1 = max_pool_2x2(h_conv1)\n",
    "\n",
    "W_conv2 = weight_variable([5, 5, 32, 64])\n",
    "b_conv2 = bias_variable([64])\n",
    "h_conv2 = tf.nn.relu(conv2d(h_pool1, W_conv2) + b_conv2)\n",
    "h_pool2 = max_pool_2x2(h_conv2)\n",
    "\n",
    "W_fc1 = weight_variable([7 * 7 * 64, 1024])\n",
    "b_fc1 = bias_variable([1024])\n",
    "h_pool2_flat = tf.reshape(h_pool2, [-1, 7*7*64])\n",
    "h_fc1 = tf.nn.relu(tf.matmul(h_pool2_flat, W_fc1) + b_fc1)\n",
    "\n",
    "keep_prob = tf.placeholder(tf.float32)\n",
    "h_fc1_drop = tf.nn.dropout(h_fc1, keep_prob)\n",
    "W_fc2 = weight_variable([1024, 10])\n",
    "b_fc2 = bias_variable([10])\n",
    "y= tf.nn.softmax(tf.matmul(h_fc1_drop, W_fc2) + b_fc2)\n",
    "\n",
    "\n",
    "cross_entropy = -tf.reduce_sum(y_ * tf.log(y))\n",
    "\n",
    "optimizer = tf.train.AdamOptimizer(1e-4)\n",
    "trainer = optimizer.minimize(cross_entropy)\n",
    "\n",
    "init = tf.initialize_all_variables()\n"
   ]
  },
  {
   "cell_type": "markdown",
   "metadata": {},
   "source": [
    "## Session"
   ]
  },
  {
   "cell_type": "code",
   "execution_count": 5,
   "metadata": {
    "collapsed": true
   },
   "outputs": [],
   "source": [
    "sess = tf.Session()\n",
    "sess.run(init)"
   ]
  },
  {
   "cell_type": "markdown",
   "metadata": {},
   "source": [
    "## conv1"
   ]
  },
  {
   "cell_type": "code",
   "execution_count": 6,
   "metadata": {
    "collapsed": false,
    "scrolled": true
   },
   "outputs": [
    {
     "data": {
      "text/plain": [
       "(5, 28, 28, 32)"
      ]
     },
     "execution_count": 6,
     "metadata": {},
     "output_type": "execute_result"
    }
   ],
   "source": [
    "result_h_conv1 = sess.run(h_conv1,  feed_dict={x_: batch_xs})\n",
    "result_h_conv1.shape"
   ]
  },
  {
   "cell_type": "markdown",
   "metadata": {},
   "source": [
    "## pool1"
   ]
  },
  {
   "cell_type": "code",
   "execution_count": 7,
   "metadata": {
    "collapsed": false,
    "scrolled": true
   },
   "outputs": [
    {
     "data": {
      "text/plain": [
       "(5, 14, 14, 32)"
      ]
     },
     "execution_count": 7,
     "metadata": {},
     "output_type": "execute_result"
    }
   ],
   "source": [
    "result_h_pool1 = sess.run(h_pool1,  feed_dict={x_: batch_xs})\n",
    "result_h_pool1.shape"
   ]
  },
  {
   "cell_type": "markdown",
   "metadata": {
    "collapsed": true
   },
   "source": [
    "## conv2"
   ]
  },
  {
   "cell_type": "code",
   "execution_count": 8,
   "metadata": {
    "collapsed": false
   },
   "outputs": [
    {
     "data": {
      "text/plain": [
       "(5, 14, 14, 64)"
      ]
     },
     "execution_count": 8,
     "metadata": {},
     "output_type": "execute_result"
    }
   ],
   "source": [
    "result_h_conv2 = sess.run(h_conv2,  feed_dict={x_: batch_xs})\n",
    "result_h_conv2.shape"
   ]
  },
  {
   "cell_type": "markdown",
   "metadata": {
    "collapsed": true
   },
   "source": [
    "## pool2"
   ]
  },
  {
   "cell_type": "code",
   "execution_count": 9,
   "metadata": {
    "collapsed": false
   },
   "outputs": [
    {
     "data": {
      "text/plain": [
       "(5, 7, 7, 64)"
      ]
     },
     "execution_count": 9,
     "metadata": {},
     "output_type": "execute_result"
    }
   ],
   "source": [
    "result_h_pool2 = sess.run(h_pool2,  feed_dict={x_: batch_xs})\n",
    "result_h_pool2.shape"
   ]
  },
  {
   "cell_type": "markdown",
   "metadata": {
    "collapsed": true
   },
   "source": [
    "## fc1"
   ]
  },
  {
   "cell_type": "code",
   "execution_count": 10,
   "metadata": {
    "collapsed": false
   },
   "outputs": [
    {
     "data": {
      "text/plain": [
       "(5, 1024)"
      ]
     },
     "execution_count": 10,
     "metadata": {},
     "output_type": "execute_result"
    }
   ],
   "source": [
    "result_h_fc1 = sess.run(h_fc1,  feed_dict={x_: batch_xs})\n",
    "result_h_fc1.shape"
   ]
  },
  {
   "cell_type": "markdown",
   "metadata": {
    "collapsed": true
   },
   "source": [
    "## y"
   ]
  },
  {
   "cell_type": "code",
   "execution_count": 11,
   "metadata": {
    "collapsed": false
   },
   "outputs": [
    {
     "data": {
      "text/plain": [
       "(5, 10)"
      ]
     },
     "execution_count": 11,
     "metadata": {},
     "output_type": "execute_result"
    }
   ],
   "source": [
    "result_y = sess.run(y,  feed_dict={x_: batch_xs, keep_prob:0.5})\n",
    "result_y.shape"
   ]
  },
  {
   "cell_type": "markdown",
   "metadata": {},
   "source": [
    "## 建立成效評估用的Computational Graph"
   ]
  },
  {
   "cell_type": "code",
   "execution_count": 12,
   "metadata": {
    "collapsed": true
   },
   "outputs": [],
   "source": [
    "correct_prediction = tf.equal(tf.argmax(y, 1), tf.argmax(y_, 1))\n",
    "accuracy = tf.reduce_mean(tf.cast(correct_prediction, tf.float32))"
   ]
  },
  {
   "cell_type": "markdown",
   "metadata": {},
   "source": [
    "## Saver"
   ]
  },
  {
   "cell_type": "code",
   "execution_count": 13,
   "metadata": {
    "collapsed": true
   },
   "outputs": [],
   "source": [
    "saver = tf.train.Saver()\n"
   ]
  },
  {
   "cell_type": "markdown",
   "metadata": {},
   "source": [
    "## 訓練"
   ]
  },
  {
   "cell_type": "code",
   "execution_count": 14,
   "metadata": {
    "collapsed": false
   },
   "outputs": [
    {
     "name": "stdout",
     "output_type": "stream",
     "text": [
      "20, train:0.2698, valid:0.57\n",
      "save model\n",
      "40, train:0.4672, valid:0.7054\n",
      "save model\n",
      "60, train:0.602, valid:0.8094\n",
      "save model\n",
      "80, train:0.6942, valid:0.8394\n",
      "save model\n",
      "100, train:0.7284, valid:0.8734\n",
      "save model\n",
      "120, train:0.77, valid:0.8914\n",
      "save model\n",
      "140, train:0.8152, valid:0.9074\n",
      "save model\n",
      "160, train:0.8272, valid:0.9084\n",
      "save model\n",
      "180, train:0.8424, valid:0.921\n",
      "save model\n",
      "200, train:0.863, valid:0.9256\n",
      "save model\n",
      "220, train:0.8682, valid:0.9294\n",
      "save model\n",
      "240, train:0.8724, valid:0.931\n",
      "save model\n",
      "260, train:0.8892, valid:0.9378\n",
      "save model\n",
      "280, train:0.8854, valid:0.9372\n",
      "300, train:0.8888, valid:0.9362\n",
      "320, train:0.8966, valid:0.943\n",
      "save model\n",
      "340, train:0.9088, valid:0.946\n",
      "save model\n",
      "360, train:0.9112, valid:0.9478\n",
      "save model\n",
      "380, train:0.9156, valid:0.9512\n",
      "save model\n",
      "400, train:0.9154, valid:0.9526\n",
      "save model\n",
      "420, train:0.9166, valid:0.9526\n",
      "440, train:0.9244, valid:0.9552\n",
      "save model\n",
      "460, train:0.9208, valid:0.9528\n",
      "480, train:0.922, valid:0.9572\n",
      "save model\n",
      "500, train:0.927, valid:0.9582\n",
      "save model\n",
      "520, train:0.9322, valid:0.9548\n",
      "540, train:0.9314, valid:0.9572\n",
      "560, train:0.9284, valid:0.9568\n",
      "580, train:0.927, valid:0.9586\n",
      "save model\n",
      "600, train:0.9332, valid:0.9608\n",
      "save model\n",
      "620, train:0.9346, valid:0.9618\n",
      "save model\n",
      "640, train:0.9404, valid:0.9634\n",
      "save model\n",
      "660, train:0.9384, valid:0.9602\n",
      "680, train:0.9408, valid:0.9654\n",
      "save model\n",
      "700, train:0.9448, valid:0.964\n",
      "720, train:0.9426, valid:0.9666\n",
      "save model\n",
      "740, train:0.9434, valid:0.9638\n",
      "760, train:0.9412, valid:0.9664\n",
      "780, train:0.9486, valid:0.966\n",
      "800, train:0.9476, valid:0.967\n",
      "save model\n",
      "820, train:0.9484, valid:0.97\n",
      "save model\n",
      "840, train:0.9486, valid:0.9684\n",
      "860, train:0.9518, valid:0.9666\n",
      "880, train:0.9476, valid:0.9698\n",
      "900, train:0.9564, valid:0.9694\n",
      "920, train:0.9558, valid:0.9704\n",
      "save model\n",
      "940, train:0.9568, valid:0.9722\n",
      "save model\n",
      "960, train:0.9514, valid:0.9718\n",
      "980, train:0.9544, valid:0.9716\n",
      "1000, train:0.9566, valid:0.9712\n",
      "1020, train:0.9564, valid:0.9736\n",
      "save model\n",
      "1040, train:0.954, valid:0.9742\n",
      "save model\n",
      "1060, train:0.9604, valid:0.973\n",
      "1080, train:0.9556, valid:0.9744\n",
      "save model\n",
      "1100, train:0.9576, valid:0.9746\n",
      "save model\n",
      "1120, train:0.9628, valid:0.9748\n",
      "save model\n",
      "1140, train:0.9596, valid:0.974\n",
      "1160, train:0.9572, valid:0.9756\n",
      "save model\n",
      "1180, train:0.9582, valid:0.976\n",
      "save model\n",
      "1200, train:0.961, valid:0.9762\n",
      "save model\n",
      "1220, train:0.9662, valid:0.9758\n",
      "1240, train:0.9586, valid:0.9742\n",
      "1260, train:0.9672, valid:0.9758\n",
      "1280, train:0.961, valid:0.9764\n",
      "save model\n",
      "1300, train:0.9634, valid:0.9772\n",
      "save model\n",
      "1320, train:0.9618, valid:0.9768\n",
      "1340, train:0.9664, valid:0.977\n",
      "1360, train:0.962, valid:0.9752\n",
      "1380, train:0.9608, valid:0.9736\n",
      "1400, train:0.9632, valid:0.9776\n",
      "save model\n",
      "1420, train:0.966, valid:0.9778\n",
      "save model\n",
      "1440, train:0.9646, valid:0.9772\n",
      "1460, train:0.9658, valid:0.9774\n",
      "1480, train:0.965, valid:0.9806\n",
      "save model\n",
      "1500, train:0.9694, valid:0.9782\n",
      "1520, train:0.966, valid:0.9792\n",
      "1540, train:0.97, valid:0.978\n",
      "1560, train:0.968, valid:0.9792\n",
      "1580, train:0.967, valid:0.9782\n",
      "1600, train:0.9666, valid:0.98\n",
      "1620, train:0.9658, valid:0.9778\n",
      "1640, train:0.9698, valid:0.979\n",
      "1660, train:0.9646, valid:0.9804\n",
      "1680, train:0.9704, valid:0.98\n",
      "1700, train:0.9698, valid:0.9816\n",
      "save model\n",
      "1720, train:0.9694, valid:0.9812\n",
      "1740, train:0.9684, valid:0.9798\n",
      "1760, train:0.9714, valid:0.9816\n",
      "1780, train:0.968, valid:0.9816\n",
      "1800, train:0.9698, valid:0.9816\n",
      "1820, train:0.9724, valid:0.9828\n",
      "save model\n",
      "1840, train:0.9708, valid:0.9816\n",
      "1860, train:0.9698, valid:0.9804\n",
      "1880, train:0.9708, valid:0.9814\n",
      "1900, train:0.9716, valid:0.9804\n",
      "1920, train:0.974, valid:0.981\n",
      "1940, train:0.974, valid:0.9828\n",
      "1960, train:0.9704, valid:0.98\n",
      "1980, train:0.9724, valid:0.982\n",
      "2000, train:0.9726, valid:0.9826\n",
      "2020, train:0.9736, valid:0.9838\n",
      "save model\n",
      "2040, train:0.9716, valid:0.9804\n",
      "2060, train:0.969, valid:0.9808\n",
      "2080, train:0.9746, valid:0.9832\n",
      "2100, train:0.9722, valid:0.9828\n",
      "2120, train:0.9722, valid:0.984\n",
      "save model\n",
      "2140, train:0.9764, valid:0.9826\n",
      "2160, train:0.9726, valid:0.983\n",
      "2180, train:0.9738, valid:0.9838\n",
      "2200, train:0.9756, valid:0.9842\n",
      "save model\n",
      "2220, train:0.9748, valid:0.9834\n",
      "2240, train:0.9738, valid:0.984\n",
      "2260, train:0.975, valid:0.983\n",
      "2280, train:0.9756, valid:0.9846\n",
      "save model\n",
      "2300, train:0.974, valid:0.9834\n",
      "2320, train:0.9756, valid:0.9858\n",
      "save model\n",
      "2340, train:0.9752, valid:0.9832\n",
      "2360, train:0.9774, valid:0.984\n",
      "2380, train:0.9776, valid:0.9846\n",
      "2400, train:0.9748, valid:0.9856\n",
      "2420, train:0.976, valid:0.985\n",
      "2440, train:0.976, valid:0.985\n",
      "2460, train:0.9728, valid:0.9848\n",
      "2480, train:0.9754, valid:0.9864\n",
      "save model\n",
      "2500, train:0.9766, valid:0.9842\n",
      "2520, train:0.9752, valid:0.985\n",
      "2540, train:0.9742, valid:0.9842\n",
      "2560, train:0.9762, valid:0.9862\n",
      "2580, train:0.976, valid:0.986\n",
      "2600, train:0.9772, valid:0.9862\n",
      "2620, train:0.9764, valid:0.9856\n",
      "2640, train:0.9736, valid:0.9848\n",
      "2660, train:0.9778, valid:0.9856\n",
      "2680, train:0.9768, valid:0.986\n",
      "2700, train:0.9756, valid:0.9868\n",
      "save model\n",
      "2720, train:0.9754, valid:0.986\n",
      "2740, train:0.9794, valid:0.9848\n",
      "2760, train:0.9778, valid:0.9848\n",
      "2780, train:0.9782, valid:0.9828\n",
      "2800, train:0.9774, valid:0.9866\n",
      "2820, train:0.9738, valid:0.984\n",
      "2840, train:0.9774, valid:0.9874\n",
      "save model\n",
      "2860, train:0.9776, valid:0.986\n",
      "2880, train:0.9794, valid:0.9858\n",
      "2900, train:0.9784, valid:0.9864\n",
      "2920, train:0.9792, valid:0.987\n",
      "2940, train:0.979, valid:0.9862\n",
      "2960, train:0.978, valid:0.9844\n",
      "2980, train:0.9772, valid:0.9854\n",
      "3000, train:0.9786, valid:0.9852\n",
      "3020, train:0.9786, valid:0.986\n",
      "3040, train:0.98, valid:0.9866\n",
      "3060, train:0.9814, valid:0.9868\n",
      "3080, train:0.9784, valid:0.9872\n",
      "3100, train:0.979, valid:0.9862\n",
      "3120, train:0.98, valid:0.988\n",
      "save model\n",
      "3140, train:0.9808, valid:0.9872\n",
      "3160, train:0.9808, valid:0.986\n",
      "3180, train:0.9792, valid:0.9864\n",
      "3200, train:0.979, valid:0.9866\n",
      "3220, train:0.9782, valid:0.9868\n",
      "3240, train:0.9794, valid:0.9858\n",
      "3260, train:0.9802, valid:0.9878\n",
      "3280, train:0.9792, valid:0.9864\n",
      "3300, train:0.979, valid:0.9878\n",
      "3320, train:0.9792, valid:0.9878\n",
      "3340, train:0.9836, valid:0.9868\n",
      "3360, train:0.9776, valid:0.987\n",
      "3380, train:0.9782, valid:0.9864\n",
      "3400, train:0.9794, valid:0.9852\n",
      "3420, train:0.9802, valid:0.987\n",
      "3440, train:0.9784, valid:0.9862\n",
      "3460, train:0.9792, valid:0.9876\n",
      "3480, train:0.982, valid:0.9872\n",
      "3500, train:0.9804, valid:0.9874\n",
      "3520, train:0.9822, valid:0.988\n",
      "3540, train:0.983, valid:0.9878\n",
      "3560, train:0.9774, valid:0.9876\n",
      "3580, train:0.9792, valid:0.988\n",
      "3600, train:0.9818, valid:0.989\n",
      "save model\n",
      "3620, train:0.9812, valid:0.9874\n",
      "3640, train:0.9822, valid:0.9874\n",
      "3660, train:0.9822, valid:0.9878\n",
      "3680, train:0.982, valid:0.9876\n",
      "3700, train:0.9818, valid:0.9872\n",
      "3720, train:0.9812, valid:0.9878\n",
      "3740, train:0.983, valid:0.9882\n",
      "3760, train:0.9836, valid:0.9892\n",
      "save model\n",
      "3780, train:0.9836, valid:0.988\n",
      "3800, train:0.9822, valid:0.9878\n",
      "3820, train:0.9808, valid:0.9892\n",
      "3840, train:0.9816, valid:0.9876\n",
      "3860, train:0.9814, valid:0.989\n",
      "3880, train:0.9838, valid:0.9892\n",
      "3900, train:0.9822, valid:0.9888\n",
      "3920, train:0.9776, valid:0.9886\n",
      "3940, train:0.9814, valid:0.9882\n",
      "3960, train:0.9812, valid:0.9888\n",
      "3980, train:0.9822, valid:0.989\n",
      "4000, train:0.9832, valid:0.9886\n",
      "4020, train:0.9836, valid:0.9884\n",
      "4040, train:0.982, valid:0.988\n",
      "4060, train:0.9848, valid:0.9886\n",
      "4080, train:0.9822, valid:0.9896\n",
      "save model\n",
      "4100, train:0.9832, valid:0.9892\n",
      "4120, train:0.9834, valid:0.9888\n",
      "4140, train:0.984, valid:0.9894\n",
      "4160, train:0.984, valid:0.9892\n",
      "4180, train:0.9838, valid:0.9892\n",
      "4200, train:0.982, valid:0.9888\n",
      "4220, train:0.9844, valid:0.9896\n",
      "4240, train:0.9834, valid:0.9894\n",
      "4260, train:0.9838, valid:0.99\n",
      "save model\n",
      "4280, train:0.9822, valid:0.9888\n",
      "4300, train:0.9826, valid:0.9882\n",
      "4320, train:0.9814, valid:0.9892\n",
      "4340, train:0.9796, valid:0.9878\n",
      "4360, train:0.9836, valid:0.9878\n",
      "4380, train:0.9858, valid:0.9882\n",
      "4400, train:0.9846, valid:0.9892\n",
      "4420, train:0.9812, valid:0.9884\n",
      "4440, train:0.9816, valid:0.9884\n",
      "4460, train:0.983, valid:0.9898\n",
      "4480, train:0.986, valid:0.9882\n",
      "4500, train:0.9838, valid:0.9888\n",
      "4520, train:0.9844, valid:0.9904\n",
      "save model\n",
      "4540, train:0.9852, valid:0.9908\n",
      "save model\n",
      "4560, train:0.9842, valid:0.9898\n",
      "4580, train:0.9822, valid:0.9888\n",
      "4600, train:0.9842, valid:0.989\n",
      "4620, train:0.9844, valid:0.9884\n",
      "4640, train:0.9842, valid:0.9894\n",
      "4660, train:0.984, valid:0.9894\n",
      "4680, train:0.9852, valid:0.9886\n",
      "4700, train:0.9832, valid:0.9886\n",
      "4720, train:0.9848, valid:0.9896\n",
      "4740, train:0.9842, valid:0.99\n",
      "4760, train:0.9832, valid:0.99\n",
      "4780, train:0.9834, valid:0.9902\n",
      "4800, train:0.9838, valid:0.99\n",
      "4820, train:0.982, valid:0.9884\n",
      "4840, train:0.9822, valid:0.99\n",
      "4860, train:0.9832, valid:0.99\n",
      "4880, train:0.9828, valid:0.9892\n",
      "4900, train:0.9846, valid:0.9892\n",
      "4920, train:0.9844, valid:0.9902\n",
      "4940, train:0.9824, valid:0.9906\n",
      "4960, train:0.9814, valid:0.988\n",
      "4980, train:0.985, valid:0.9894\n",
      "5000, train:0.9856, valid:0.989\n",
      "5020, train:0.9862, valid:0.9894\n",
      "5040, train:0.9856, valid:0.9884\n",
      "5060, train:0.9846, valid:0.9892\n",
      "5080, train:0.9864, valid:0.9908\n",
      "5100, train:0.985, valid:0.9904\n",
      "5120, train:0.9834, valid:0.9908\n",
      "5140, train:0.9856, valid:0.9888\n",
      "5160, train:0.9838, valid:0.9896\n",
      "5180, train:0.9858, valid:0.9906\n",
      "5200, train:0.9854, valid:0.9898\n",
      "5220, train:0.9872, valid:0.989\n",
      "5240, train:0.9836, valid:0.9892\n",
      "5260, train:0.9826, valid:0.9894\n",
      "5280, train:0.9832, valid:0.9896\n",
      "5300, train:0.985, valid:0.9906\n",
      "5320, train:0.9848, valid:0.989\n",
      "5340, train:0.986, valid:0.9896\n",
      "5360, train:0.9844, valid:0.9892\n",
      "5380, train:0.9846, valid:0.99\n",
      "5400, train:0.9848, valid:0.9894\n",
      "5420, train:0.9854, valid:0.9906\n",
      "5440, train:0.9868, valid:0.9906\n",
      "5460, train:0.9864, valid:0.9908\n",
      "5480, train:0.9842, valid:0.9896\n",
      "5500, train:0.9856, valid:0.9898\n",
      "5520, train:0.9866, valid:0.9908\n",
      "5540, train:0.9844, valid:0.9912\n",
      "save model\n",
      "5560, train:0.9852, valid:0.991\n",
      "5580, train:0.9842, valid:0.9898\n",
      "5600, train:0.9844, valid:0.99\n",
      "5620, train:0.9842, valid:0.9904\n",
      "5640, train:0.9862, valid:0.9896\n",
      "5660, train:0.9846, valid:0.9904\n",
      "5680, train:0.9846, valid:0.9902\n",
      "5700, train:0.9856, valid:0.9896\n",
      "5720, train:0.9846, valid:0.9906\n",
      "5740, train:0.9856, valid:0.9896\n",
      "5760, train:0.9856, valid:0.9902\n",
      "5780, train:0.9878, valid:0.9902\n",
      "5800, train:0.9832, valid:0.9906\n",
      "5820, train:0.9866, valid:0.9908\n",
      "5840, train:0.988, valid:0.9898\n",
      "5860, train:0.9854, valid:0.9888\n",
      "5880, train:0.9864, valid:0.9902\n",
      "5900, train:0.9854, valid:0.9902\n",
      "5920, train:0.984, valid:0.991\n",
      "5940, train:0.9852, valid:0.9896\n",
      "5960, train:0.9856, valid:0.9902\n",
      "5980, train:0.9846, valid:0.9894\n",
      "6000, train:0.983, valid:0.9892\n",
      "6020, train:0.9842, valid:0.9912\n",
      "6040, train:0.9852, valid:0.9906\n",
      "6060, train:0.986, valid:0.9918\n",
      "save model\n",
      "6080, train:0.9864, valid:0.991\n",
      "6100, train:0.9862, valid:0.9918\n",
      "6120, train:0.9892, valid:0.992\n",
      "save model\n",
      "6140, train:0.9856, valid:0.991\n",
      "6160, train:0.9872, valid:0.9914\n",
      "6180, train:0.987, valid:0.9904\n",
      "6200, train:0.9864, valid:0.9906\n",
      "6220, train:0.9858, valid:0.9892\n",
      "6240, train:0.9846, valid:0.9902\n",
      "6260, train:0.9856, valid:0.9908\n",
      "6280, train:0.9866, valid:0.9904\n",
      "6300, train:0.9848, valid:0.9908\n",
      "6320, train:0.9848, valid:0.9904\n",
      "6340, train:0.9872, valid:0.99\n",
      "6360, train:0.9864, valid:0.9898\n",
      "6380, train:0.9842, valid:0.99\n",
      "6400, train:0.984, valid:0.9898\n",
      "6420, train:0.9846, valid:0.9902\n",
      "6440, train:0.9856, valid:0.991\n",
      "6460, train:0.9848, valid:0.9892\n",
      "6480, train:0.9858, valid:0.99\n",
      "6500, train:0.9876, valid:0.9906\n",
      "6520, train:0.9856, valid:0.9902\n",
      "6540, train:0.9868, valid:0.991\n",
      "6560, train:0.986, valid:0.9912\n",
      "6580, train:0.9888, valid:0.9918\n",
      "6600, train:0.9864, valid:0.9904\n",
      "6620, train:0.9866, valid:0.9912\n",
      "6640, train:0.9856, valid:0.992\n",
      "6660, train:0.9862, valid:0.9912\n",
      "6680, train:0.987, valid:0.991\n",
      "6700, train:0.9882, valid:0.9922\n",
      "save model\n",
      "6720, train:0.9876, valid:0.9916\n",
      "6740, train:0.9876, valid:0.991\n",
      "6760, train:0.9882, valid:0.9924\n",
      "save model\n",
      "6780, train:0.9884, valid:0.9924\n",
      "6800, train:0.987, valid:0.9916\n",
      "6820, train:0.9858, valid:0.9918\n",
      "6840, train:0.9864, valid:0.9924\n",
      "6860, train:0.9856, valid:0.9902\n",
      "6880, train:0.9868, valid:0.991\n",
      "6900, train:0.9854, valid:0.9906\n",
      "6920, train:0.9872, valid:0.992\n",
      "6940, train:0.9868, valid:0.992\n",
      "6960, train:0.9872, valid:0.991\n",
      "6980, train:0.9892, valid:0.9914\n",
      "7000, train:0.986, valid:0.9912\n",
      "7020, train:0.9868, valid:0.9904\n",
      "7040, train:0.9886, valid:0.9896\n",
      "7060, train:0.9876, valid:0.99\n",
      "7080, train:0.9878, valid:0.99\n",
      "7100, train:0.9876, valid:0.9916\n",
      "7120, train:0.9872, valid:0.9904\n",
      "7140, train:0.987, valid:0.9912\n",
      "7160, train:0.989, valid:0.992\n",
      "7180, train:0.9866, valid:0.9908\n",
      "7200, train:0.9874, valid:0.9904\n",
      "7220, train:0.9876, valid:0.9908\n",
      "7240, train:0.9876, valid:0.992\n",
      "7260, train:0.9872, valid:0.9912\n",
      "7280, train:0.9894, valid:0.9904\n",
      "7300, train:0.985, valid:0.9914\n",
      "7320, train:0.9884, valid:0.9912\n",
      "7340, train:0.9868, valid:0.9914\n",
      "7360, train:0.9854, valid:0.9912\n",
      "7380, train:0.9884, valid:0.9916\n",
      "7400, train:0.988, valid:0.992\n",
      "7420, train:0.9866, valid:0.9906\n",
      "7440, train:0.9872, valid:0.9912\n",
      "7460, train:0.9864, valid:0.9918\n",
      "7480, train:0.9884, valid:0.9908\n",
      "7500, train:0.9866, valid:0.992\n",
      "7520, train:0.9866, valid:0.9922\n",
      "7540, train:0.9894, valid:0.9918\n",
      "7560, train:0.9894, valid:0.9918\n",
      "7580, train:0.988, valid:0.9914\n",
      "7600, train:0.9864, valid:0.992\n",
      "7620, train:0.9884, valid:0.9912\n",
      "7640, train:0.9876, valid:0.9904\n",
      "7660, train:0.9876, valid:0.9912\n",
      "7680, train:0.987, valid:0.9908\n",
      "7700, train:0.9874, valid:0.9918\n",
      "7720, train:0.988, valid:0.9916\n",
      "7740, train:0.9886, valid:0.9922\n",
      "7760, train:0.9874, valid:0.9922\n",
      "early stop\n"
     ]
    }
   ],
   "source": [
    "patience = 50\n",
    "best_accurarcy = 0\n",
    "i = 0\n",
    "\n",
    "\n",
    "while True:\n",
    "    i += 1\n",
    "    batch_xs, batch_ys = mnist.train.next_batch(100)\n",
    "    sess.run(trainer,  feed_dict={x_: batch_xs, y_: batch_ys, keep_prob:0.5})\n",
    "    if i%20 == 0:\n",
    "        train_accurarcy = sess.run(accuracy, \n",
    "            feed_dict={x_: mnist.validation.images, y_: mnist.validation.labels, keep_prob:0.5})\n",
    "        valid_accurarcy = sess.run(accuracy, \n",
    "            feed_dict={x_: mnist.validation.images, y_: mnist.validation.labels, keep_prob:1})\n",
    "        print \"%s, train:%s, valid:%s\" %(i,train_accurarcy, valid_accurarcy)\n",
    "        if valid_accurarcy > best_accurarcy:\n",
    "            patience = 50\n",
    "            best_accurarcy = valid_accurarcy\n",
    "            print \"save model\"\n",
    "            saver.save(sess, \"model_conv.ckpt\")\n",
    "        else:\n",
    "            patience -= 1\n",
    "            if patience == 0:\n",
    "                print \"early stop\"\n",
    "                break"
   ]
  },
  {
   "cell_type": "code",
   "execution_count": 15,
   "metadata": {
    "collapsed": false
   },
   "outputs": [
    {
     "name": "stdout",
     "output_type": "stream",
     "text": [
      "valid:0.9924, test:0.99\n"
     ]
    }
   ],
   "source": [
    "saver.restore(sess, \"model_conv.ckpt\")\n",
    "valid_accurarcy = sess.run(accuracy, feed_dict={x_: mnist.validation.images, y_: mnist.validation.labels, keep_prob:1})\n",
    "test_accurarcy = sess.run(accuracy, feed_dict={x_: mnist.test.images, y_: mnist.test.labels, keep_prob:1})\n",
    "print \"valid:%s, test:%s\"%(valid_accurarcy,test_accurarcy)"
   ]
  },
  {
   "cell_type": "code",
   "execution_count": null,
   "metadata": {
    "collapsed": true
   },
   "outputs": [],
   "source": []
  }
 ],
 "metadata": {
  "kernelspec": {
   "display_name": "Python 2",
   "language": "python",
   "name": "python2"
  },
  "language_info": {
   "codemirror_mode": {
    "name": "ipython",
    "version": 2
   },
   "file_extension": ".py",
   "mimetype": "text/x-python",
   "name": "python",
   "nbconvert_exporter": "python",
   "pygments_lexer": "ipython2",
   "version": "2.7.10"
  }
 },
 "nbformat": 4,
 "nbformat_minor": 0
}
