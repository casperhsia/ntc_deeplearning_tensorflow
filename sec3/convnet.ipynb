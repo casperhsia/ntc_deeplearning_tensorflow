{
 "cells": [
  {
   "cell_type": "markdown",
   "metadata": {},
   "source": [
    "# 卷積神經網路實作"
   ]
  },
  {
   "cell_type": "markdown",
   "metadata": {},
   "source": [
    "## 載入套件"
   ]
  },
  {
   "cell_type": "code",
   "execution_count": 1,
   "metadata": {
    "collapsed": false
   },
   "outputs": [
    {
     "name": "stdout",
     "output_type": "stream",
     "text": [
      "Extracting MNIST_data/train-images-idx3-ubyte.gz\n",
      "Extracting MNIST_data/train-labels-idx1-ubyte.gz\n",
      "Extracting MNIST_data/t10k-images-idx3-ubyte.gz\n",
      "Extracting MNIST_data/t10k-labels-idx1-ubyte.gz\n"
     ]
    }
   ],
   "source": [
    "import tensorflow as tf\n",
    "import input_data\n",
    "\n",
    "mnist = input_data.read_data_sets('MNIST_data', one_hot=True)"
   ]
  },
  {
   "cell_type": "markdown",
   "metadata": {},
   "source": [
    "## 訓練資料"
   ]
  },
  {
   "cell_type": "code",
   "execution_count": 2,
   "metadata": {
    "collapsed": true
   },
   "outputs": [],
   "source": [
    "batch_xs, batch_ys = mnist.train.next_batch(5)"
   ]
  },
  {
   "cell_type": "code",
   "execution_count": 3,
   "metadata": {
    "collapsed": true
   },
   "outputs": [],
   "source": [
    "def weight_variable(shape):\n",
    "    initial = tf.truncated_normal(shape, stddev=0.1)\n",
    "    return tf.Variable(initial)\n",
    "def bias_variable(shape):\n",
    "    initial = tf.constant(0.1, shape=shape)\n",
    "    return tf.Variable(initial)\n",
    "def conv2d(x, W):\n",
    "    return tf.nn.conv2d(x, W, strides=[1, 1, 1, 1], padding='SAME')\n",
    "def max_pool_2x2(x):\n",
    "    return tf.nn.max_pool(x, ksize=[1, 2, 2, 1],\n",
    "                        strides=[1, 2, 2, 1], padding='SAME')"
   ]
  },
  {
   "cell_type": "markdown",
   "metadata": {},
   "source": [
    "## 建立Computational Graph"
   ]
  },
  {
   "cell_type": "code",
   "execution_count": 4,
   "metadata": {
    "collapsed": false
   },
   "outputs": [],
   "source": [
    "x_ = tf.placeholder(tf.float32, [None, 784], name=\"x_\")\n",
    "y_ = tf.placeholder(tf.float32, [None, 10], name=\"y_\")\n",
    "\n",
    "\n",
    "x_image = tf.reshape(x_, [-1,28,28,1])\n",
    "\n",
    "W_conv1 = weight_variable([5, 5, 1, 32])\n",
    "b_conv1 = bias_variable([32])\n",
    "h_conv1 = tf.nn.relu(conv2d(x_image, W_conv1) + b_conv1)\n",
    "h_pool1 = max_pool_2x2(h_conv1)\n",
    "\n",
    "W_conv2 = weight_variable([5, 5, 32, 64])\n",
    "b_conv2 = bias_variable([64])\n",
    "h_conv2 = tf.nn.relu(conv2d(h_pool1, W_conv2) + b_conv2)\n",
    "h_pool2 = max_pool_2x2(h_conv2)\n",
    "\n",
    "W_fc1 = weight_variable([7 * 7 * 64, 1024])\n",
    "b_fc1 = bias_variable([1024])\n",
    "h_pool2_flat = tf.reshape(h_pool2, [-1, 7*7*64])\n",
    "h_fc1 = tf.nn.relu(tf.matmul(h_pool2_flat, W_fc1) + b_fc1)\n",
    "\n",
    "keep_prob = tf.placeholder(tf.float32)\n",
    "h_fc1_drop = tf.nn.dropout(h_fc1, keep_prob)\n",
    "W_fc2 = weight_variable([1024, 10])\n",
    "b_fc2 = bias_variable([10])\n",
    "y= tf.nn.softmax(tf.matmul(h_fc1_drop, W_fc2) + b_fc2)\n",
    "\n",
    "\n",
    "cross_entropy = -tf.reduce_sum(y_ * tf.log(y))\n",
    "\n",
    "optimizer = tf.train.AdamOptimizer(1e-4)\n",
    "trainer = optimizer.minimize(cross_entropy)\n",
    "\n",
    "init = tf.initialize_all_variables()\n"
   ]
  },
  {
   "cell_type": "markdown",
   "metadata": {},
   "source": [
    "## Session"
   ]
  },
  {
   "cell_type": "code",
   "execution_count": 5,
   "metadata": {
    "collapsed": true
   },
   "outputs": [],
   "source": [
    "sess = tf.Session()\n",
    "sess.run(init)"
   ]
  },
  {
   "cell_type": "markdown",
   "metadata": {},
   "source": [
    "## conv1"
   ]
  },
  {
   "cell_type": "code",
   "execution_count": 6,
   "metadata": {
    "collapsed": false,
    "scrolled": true
   },
   "outputs": [
    {
     "data": {
      "text/plain": [
       "(5, 28, 28, 32)"
      ]
     },
     "execution_count": 6,
     "metadata": {},
     "output_type": "execute_result"
    }
   ],
   "source": [
    "result_h_conv1 = sess.run(h_conv1,  feed_dict={x_: batch_xs})\n",
    "result_h_conv1.shape"
   ]
  },
  {
   "cell_type": "markdown",
   "metadata": {},
   "source": [
    "## pool1"
   ]
  },
  {
   "cell_type": "code",
   "execution_count": 7,
   "metadata": {
    "collapsed": false,
    "scrolled": true
   },
   "outputs": [
    {
     "data": {
      "text/plain": [
       "(5, 14, 14, 32)"
      ]
     },
     "execution_count": 7,
     "metadata": {},
     "output_type": "execute_result"
    }
   ],
   "source": [
    "result_h_pool1 = sess.run(h_pool1,  feed_dict={x_: batch_xs})\n",
    "result_h_pool1.shape"
   ]
  },
  {
   "cell_type": "markdown",
   "metadata": {
    "collapsed": true
   },
   "source": [
    "## conv2"
   ]
  },
  {
   "cell_type": "code",
   "execution_count": 8,
   "metadata": {
    "collapsed": false
   },
   "outputs": [
    {
     "data": {
      "text/plain": [
       "(5, 14, 14, 64)"
      ]
     },
     "execution_count": 8,
     "metadata": {},
     "output_type": "execute_result"
    }
   ],
   "source": [
    "result_h_conv2 = sess.run(h_conv2,  feed_dict={x_: batch_xs})\n",
    "result_h_conv2.shape"
   ]
  },
  {
   "cell_type": "markdown",
   "metadata": {
    "collapsed": true
   },
   "source": [
    "## pool2"
   ]
  },
  {
   "cell_type": "code",
   "execution_count": 9,
   "metadata": {
    "collapsed": false
   },
   "outputs": [
    {
     "data": {
      "text/plain": [
       "(5, 7, 7, 64)"
      ]
     },
     "execution_count": 9,
     "metadata": {},
     "output_type": "execute_result"
    }
   ],
   "source": [
    "result_h_pool2 = sess.run(h_pool2,  feed_dict={x_: batch_xs})\n",
    "result_h_pool2.shape"
   ]
  },
  {
   "cell_type": "markdown",
   "metadata": {
    "collapsed": true
   },
   "source": [
    "## fc1"
   ]
  },
  {
   "cell_type": "code",
   "execution_count": 10,
   "metadata": {
    "collapsed": false
   },
   "outputs": [
    {
     "data": {
      "text/plain": [
       "(5, 1024)"
      ]
     },
     "execution_count": 10,
     "metadata": {},
     "output_type": "execute_result"
    }
   ],
   "source": [
    "result_h_fc1 = sess.run(h_fc1,  feed_dict={x_: batch_xs})\n",
    "result_h_fc1.shape"
   ]
  },
  {
   "cell_type": "markdown",
   "metadata": {
    "collapsed": true
   },
   "source": [
    "## y"
   ]
  },
  {
   "cell_type": "code",
   "execution_count": 11,
   "metadata": {
    "collapsed": false
   },
   "outputs": [
    {
     "data": {
      "text/plain": [
       "(5, 10)"
      ]
     },
     "execution_count": 11,
     "metadata": {},
     "output_type": "execute_result"
    }
   ],
   "source": [
    "result_y = sess.run(y,  feed_dict={x_: batch_xs, keep_prob:0.5})\n",
    "result_y.shape"
   ]
  },
  {
   "cell_type": "markdown",
   "metadata": {},
   "source": [
    "## 建立成效評估用的Computational Graph"
   ]
  },
  {
   "cell_type": "code",
   "execution_count": 12,
   "metadata": {
    "collapsed": true
   },
   "outputs": [],
   "source": [
    "correct_prediction = tf.equal(tf.argmax(y, 1), tf.argmax(y_, 1))\n",
    "accuracy = tf.reduce_mean(tf.cast(correct_prediction, tf.float32))"
   ]
  },
  {
   "cell_type": "markdown",
   "metadata": {},
   "source": [
    "## Saver"
   ]
  },
  {
   "cell_type": "code",
   "execution_count": 13,
   "metadata": {
    "collapsed": true
   },
   "outputs": [],
   "source": [
    "saver = tf.train.Saver()\n"
   ]
  },
  {
   "cell_type": "markdown",
   "metadata": {},
   "source": [
    "## 訓練"
   ]
  },
  {
   "cell_type": "code",
   "execution_count": 14,
   "metadata": {
    "collapsed": false
   },
   "outputs": [
    {
     "name": "stdout",
     "output_type": "stream",
     "text": [
      "5, train:0.1206, valid:0.1242\n",
      "save model\n",
      "10, train:0.159, valid:0.2792\n",
      "save model\n",
      "15, train:0.2164, valid:0.4746\n",
      "save model\n",
      "20, train:0.2692, valid:0.552\n",
      "save model\n",
      "25, train:0.308, valid:0.6418\n",
      "save model\n",
      "30, train:0.3472, valid:0.6826\n",
      "save model\n",
      "35, train:0.4252, valid:0.714\n",
      "save model\n",
      "40, train:0.4678, valid:0.7478\n",
      "save model\n",
      "45, train:0.5132, valid:0.7708\n",
      "save model\n",
      "50, train:0.535, valid:0.79\n",
      "save model\n",
      "55, train:0.5682, valid:0.799\n",
      "save model\n",
      "60, train:0.5974, valid:0.8146\n",
      "save model\n",
      "65, train:0.6268, valid:0.8108\n",
      "70, train:0.6398, valid:0.8392\n",
      "save model\n",
      "75, train:0.6546, valid:0.8334\n",
      "80, train:0.6768, valid:0.8382\n",
      "85, train:0.6856, valid:0.852\n",
      "save model\n",
      "90, train:0.707, valid:0.861\n",
      "save model\n",
      "95, train:0.7246, valid:0.8696\n",
      "save model\n",
      "100, train:0.7378, valid:0.8776\n",
      "save model\n",
      "105, train:0.7564, valid:0.8852\n",
      "save model\n",
      "110, train:0.7578, valid:0.889\n",
      "save model\n",
      "115, train:0.7668, valid:0.8934\n",
      "save model\n",
      "120, train:0.7664, valid:0.8924\n",
      "125, train:0.7892, valid:0.8954\n",
      "save model\n",
      "130, train:0.7916, valid:0.8942\n",
      "135, train:0.7944, valid:0.8982\n",
      "save model\n",
      "140, train:0.8034, valid:0.9014\n",
      "save model\n",
      "145, train:0.8142, valid:0.9054\n",
      "save model\n",
      "150, train:0.8018, valid:0.901\n",
      "155, train:0.82, valid:0.9056\n",
      "save model\n",
      "160, train:0.8172, valid:0.9008\n",
      "165, train:0.8304, valid:0.909\n",
      "save model\n",
      "170, train:0.8258, valid:0.9128\n",
      "save model\n",
      "175, train:0.8336, valid:0.9124\n",
      "180, train:0.83, valid:0.9104\n",
      "185, train:0.8398, valid:0.9146\n",
      "save model\n",
      "190, train:0.856, valid:0.9222\n",
      "save model\n",
      "195, train:0.8488, valid:0.9242\n",
      "save model\n",
      "200, train:0.8428, valid:0.924\n",
      "205, train:0.8564, valid:0.9228\n",
      "210, train:0.861, valid:0.926\n",
      "save model\n",
      "215, train:0.8584, valid:0.9262\n",
      "save model\n",
      "220, train:0.8552, valid:0.9254\n",
      "225, train:0.862, valid:0.9256\n",
      "230, train:0.8674, valid:0.9282\n",
      "save model\n",
      "235, train:0.8654, valid:0.9262\n",
      "240, train:0.863, valid:0.925\n",
      "245, train:0.8658, valid:0.9276\n",
      "250, train:0.8746, valid:0.9314\n",
      "save model\n",
      "255, train:0.8714, valid:0.9322\n",
      "save model\n",
      "260, train:0.8706, valid:0.9338\n",
      "save model\n",
      "265, train:0.8772, valid:0.9366\n",
      "save model\n",
      "270, train:0.8684, valid:0.9366\n",
      "275, train:0.8832, valid:0.9396\n",
      "save model\n",
      "280, train:0.8852, valid:0.9394\n",
      "285, train:0.8844, valid:0.94\n",
      "save model\n",
      "290, train:0.89, valid:0.9378\n",
      "295, train:0.8838, valid:0.9344\n",
      "300, train:0.888, valid:0.935\n",
      "305, train:0.8866, valid:0.9414\n",
      "save model\n",
      "310, train:0.888, valid:0.9394\n",
      "315, train:0.893, valid:0.9422\n",
      "save model\n",
      "320, train:0.8968, valid:0.9404\n",
      "325, train:0.8944, valid:0.9396\n",
      "330, train:0.8934, valid:0.9364\n",
      "335, train:0.896, valid:0.9438\n",
      "save model\n",
      "340, train:0.9002, valid:0.9428\n",
      "345, train:0.9002, valid:0.9436\n",
      "350, train:0.9024, valid:0.9442\n",
      "save model\n",
      "355, train:0.8996, valid:0.9402\n",
      "360, train:0.9032, valid:0.9462\n",
      "save model\n",
      "365, train:0.9144, valid:0.9446\n",
      "370, train:0.9076, valid:0.9434\n",
      "375, train:0.9044, valid:0.9406\n",
      "380, train:0.9078, valid:0.944\n",
      "385, train:0.906, valid:0.9484\n",
      "save model\n",
      "390, train:0.9024, valid:0.9476\n",
      "395, train:0.9084, valid:0.949\n",
      "save model\n",
      "400, train:0.9112, valid:0.9472\n",
      "405, train:0.905, valid:0.9458\n",
      "410, train:0.9098, valid:0.948\n",
      "415, train:0.9116, valid:0.9494\n",
      "save model\n",
      "420, train:0.913, valid:0.9476\n",
      "425, train:0.91, valid:0.9506\n",
      "save model\n",
      "430, train:0.9144, valid:0.9496\n",
      "435, train:0.9116, valid:0.9502\n",
      "440, train:0.9124, valid:0.953\n",
      "save model\n",
      "445, train:0.9154, valid:0.9512\n",
      "450, train:0.9246, valid:0.9526\n",
      "455, train:0.9148, valid:0.9518\n",
      "460, train:0.9186, valid:0.9522\n",
      "465, train:0.9216, valid:0.951\n",
      "470, train:0.918, valid:0.9516\n",
      "475, train:0.9134, valid:0.9554\n",
      "save model\n",
      "480, train:0.9236, valid:0.9532\n",
      "485, train:0.9178, valid:0.9544\n",
      "490, train:0.9232, valid:0.9552\n",
      "495, train:0.9222, valid:0.9542\n",
      "500, train:0.9238, valid:0.9558\n",
      "save model\n",
      "505, train:0.9216, valid:0.9546\n",
      "510, train:0.9204, valid:0.9564\n",
      "save model\n",
      "515, train:0.9234, valid:0.9568\n",
      "save model\n",
      "520, train:0.9242, valid:0.9576\n",
      "save model\n",
      "525, train:0.9254, valid:0.9554\n",
      "530, train:0.928, valid:0.9526\n",
      "535, train:0.9282, valid:0.9516\n",
      "540, train:0.9214, valid:0.9514\n",
      "545, train:0.925, valid:0.9526\n",
      "550, train:0.922, valid:0.9534\n",
      "555, train:0.9262, valid:0.956\n",
      "560, train:0.929, valid:0.9542\n",
      "565, train:0.9298, valid:0.9562\n",
      "570, train:0.9248, valid:0.9564\n",
      "575, train:0.9298, valid:0.9578\n",
      "save model\n",
      "580, train:0.9298, valid:0.9556\n",
      "585, train:0.9244, valid:0.9556\n",
      "590, train:0.93, valid:0.9568\n",
      "595, train:0.9288, valid:0.9556\n",
      "600, train:0.928, valid:0.958\n",
      "save model\n",
      "605, train:0.9314, valid:0.9582\n",
      "save model\n",
      "610, train:0.9336, valid:0.9574\n",
      "615, train:0.9336, valid:0.9576\n",
      "620, train:0.9322, valid:0.9586\n",
      "save model\n",
      "625, train:0.9336, valid:0.9592\n",
      "save model\n",
      "630, train:0.9312, valid:0.9598\n",
      "save model\n",
      "635, train:0.9266, valid:0.9572\n",
      "640, train:0.9296, valid:0.9572\n",
      "645, train:0.9364, valid:0.9592\n",
      "650, train:0.9352, valid:0.9612\n",
      "save model\n",
      "655, train:0.9372, valid:0.963\n",
      "save model\n",
      "660, train:0.9362, valid:0.9624\n",
      "665, train:0.9358, valid:0.961\n",
      "670, train:0.9382, valid:0.9614\n",
      "675, train:0.939, valid:0.9622\n",
      "680, train:0.938, valid:0.9618\n",
      "685, train:0.9398, valid:0.962\n",
      "690, train:0.9434, valid:0.9618\n",
      "695, train:0.9372, valid:0.9608\n",
      "700, train:0.9396, valid:0.9622\n",
      "705, train:0.9388, valid:0.964\n",
      "save model\n",
      "710, train:0.9406, valid:0.9646\n",
      "save model\n",
      "715, train:0.9436, valid:0.9658\n",
      "save model\n",
      "720, train:0.9384, valid:0.9656\n",
      "725, train:0.942, valid:0.9662\n",
      "save model\n",
      "730, train:0.9422, valid:0.9648\n",
      "735, train:0.9422, valid:0.9648\n",
      "740, train:0.943, valid:0.966\n",
      "745, train:0.943, valid:0.9674\n",
      "save model\n",
      "750, train:0.9418, valid:0.967\n",
      "755, train:0.9448, valid:0.9666\n",
      "760, train:0.94, valid:0.9646\n",
      "765, train:0.9406, valid:0.964\n",
      "770, train:0.9422, valid:0.965\n",
      "775, train:0.9418, valid:0.9666\n",
      "780, train:0.9418, valid:0.9646\n",
      "785, train:0.9438, valid:0.9662\n",
      "790, train:0.9436, valid:0.9666\n",
      "795, train:0.937, valid:0.966\n",
      "800, train:0.9446, valid:0.9648\n",
      "805, train:0.945, valid:0.965\n",
      "810, train:0.9474, valid:0.968\n",
      "save model\n",
      "815, train:0.9482, valid:0.9672\n",
      "820, train:0.9446, valid:0.9682\n",
      "save model\n",
      "825, train:0.944, valid:0.968\n",
      "830, train:0.9472, valid:0.9668\n",
      "835, train:0.9496, valid:0.9678\n",
      "840, train:0.9472, valid:0.9702\n",
      "save model\n",
      "845, train:0.9468, valid:0.9692\n",
      "850, train:0.9456, valid:0.9694\n",
      "855, train:0.9534, valid:0.9696\n",
      "860, train:0.9482, valid:0.967\n",
      "865, train:0.9468, valid:0.9672\n",
      "870, train:0.9464, valid:0.9684\n",
      "875, train:0.9492, valid:0.9668\n",
      "880, train:0.9452, valid:0.9694\n",
      "885, train:0.9474, valid:0.97\n",
      "890, train:0.9482, valid:0.9702\n",
      "895, train:0.9454, valid:0.9678\n",
      "900, train:0.9514, valid:0.9696\n",
      "905, train:0.945, valid:0.9696\n",
      "910, train:0.9508, valid:0.969\n",
      "915, train:0.9486, valid:0.9676\n",
      "920, train:0.9504, valid:0.9686\n",
      "925, train:0.9514, valid:0.9702\n",
      "930, train:0.95, valid:0.9704\n",
      "save model\n",
      "935, train:0.95, valid:0.9712\n",
      "save model\n",
      "940, train:0.9492, valid:0.9724\n",
      "save model\n",
      "945, train:0.9496, valid:0.9704\n",
      "950, train:0.9472, valid:0.9688\n",
      "955, train:0.9524, valid:0.971\n",
      "960, train:0.9546, valid:0.9732\n",
      "save model\n",
      "965, train:0.9546, valid:0.9708\n",
      "970, train:0.9518, valid:0.971\n",
      "975, train:0.9492, valid:0.9726\n",
      "980, train:0.9508, valid:0.9708\n",
      "985, train:0.9534, valid:0.973\n",
      "990, train:0.9502, valid:0.9728\n",
      "995, train:0.9494, valid:0.971\n",
      "1000, train:0.9552, valid:0.974\n",
      "save model\n",
      "1005, train:0.9552, valid:0.9732\n",
      "1010, train:0.9472, valid:0.968\n",
      "1015, train:0.9506, valid:0.9708\n",
      "1020, train:0.9576, valid:0.9746\n",
      "save model\n",
      "1025, train:0.9532, valid:0.973\n",
      "1030, train:0.9542, valid:0.974\n",
      "1035, train:0.9542, valid:0.9744\n",
      "1040, train:0.9512, valid:0.9738\n",
      "1045, train:0.9556, valid:0.9742\n",
      "1050, train:0.9582, valid:0.9752\n",
      "save model\n",
      "1055, train:0.9538, valid:0.975\n",
      "1060, train:0.9566, valid:0.9738\n",
      "1065, train:0.9532, valid:0.974\n",
      "1070, train:0.952, valid:0.9744\n",
      "1075, train:0.9564, valid:0.9748\n",
      "1080, train:0.9554, valid:0.9752\n",
      "1085, train:0.953, valid:0.9742\n",
      "1090, train:0.9558, valid:0.9754\n",
      "save model\n",
      "1095, train:0.9542, valid:0.9756\n",
      "save model\n",
      "1100, train:0.9514, valid:0.9714\n",
      "1105, train:0.9564, valid:0.973\n",
      "1110, train:0.9564, valid:0.9742\n",
      "1115, train:0.9552, valid:0.97\n",
      "1120, train:0.9574, valid:0.9724\n",
      "1125, train:0.9562, valid:0.9728\n",
      "1130, train:0.9562, valid:0.9748\n",
      "1135, train:0.9544, valid:0.9734\n",
      "1140, train:0.9578, valid:0.9746\n",
      "1145, train:0.954, valid:0.9728\n",
      "1150, train:0.9582, valid:0.9744\n",
      "1155, train:0.9548, valid:0.9752\n",
      "1160, train:0.9572, valid:0.9746\n",
      "1165, train:0.9566, valid:0.9752\n",
      "1170, train:0.9568, valid:0.9746\n",
      "1175, train:0.9566, valid:0.972\n",
      "1180, train:0.9576, valid:0.9726\n",
      "1185, train:0.957, valid:0.9738\n",
      "1190, train:0.9598, valid:0.974\n",
      "1195, train:0.9608, valid:0.9742\n",
      "1200, train:0.963, valid:0.9756\n",
      "1205, train:0.963, valid:0.9754\n",
      "1210, train:0.961, valid:0.975\n",
      "1215, train:0.9622, valid:0.9744\n",
      "1220, train:0.958, valid:0.9746\n",
      "1225, train:0.9612, valid:0.9744\n",
      "1230, train:0.961, valid:0.977\n",
      "save model\n",
      "1235, train:0.961, valid:0.9774\n",
      "save model\n",
      "1240, train:0.9614, valid:0.9772\n",
      "1245, train:0.9572, valid:0.9766\n",
      "1250, train:0.9578, valid:0.9768\n",
      "1255, train:0.9592, valid:0.9748\n",
      "1260, train:0.9592, valid:0.975\n",
      "1265, train:0.958, valid:0.975\n",
      "1270, train:0.9606, valid:0.976\n",
      "1275, train:0.9596, valid:0.9778\n",
      "save model\n",
      "1280, train:0.96, valid:0.977\n",
      "1285, train:0.9596, valid:0.9774\n",
      "1290, train:0.955, valid:0.977\n",
      "1295, train:0.9594, valid:0.9758\n",
      "1300, train:0.9582, valid:0.9754\n",
      "1305, train:0.9578, valid:0.9756\n",
      "1310, train:0.9584, valid:0.974\n",
      "1315, train:0.957, valid:0.9744\n",
      "1320, train:0.9606, valid:0.9768\n",
      "1325, train:0.9616, valid:0.9756\n",
      "1330, train:0.9584, valid:0.9766\n",
      "1335, train:0.9598, valid:0.976\n",
      "1340, train:0.9584, valid:0.9754\n",
      "1345, train:0.9594, valid:0.9758\n",
      "1350, train:0.9628, valid:0.9774\n",
      "1355, train:0.9604, valid:0.9778\n",
      "1360, train:0.9648, valid:0.9776\n",
      "1365, train:0.9654, valid:0.9776\n",
      "1370, train:0.9604, valid:0.9776\n",
      "1375, train:0.961, valid:0.9776\n",
      "1380, train:0.9628, valid:0.978\n",
      "save model\n",
      "1385, train:0.9612, valid:0.9788\n",
      "save model\n",
      "1390, train:0.9636, valid:0.9782\n",
      "1395, train:0.9624, valid:0.9782\n",
      "1400, train:0.9626, valid:0.979\n",
      "save model\n",
      "1405, train:0.9648, valid:0.9794\n",
      "save model\n",
      "1410, train:0.9656, valid:0.9778\n",
      "1415, train:0.9636, valid:0.977\n",
      "1420, train:0.9624, valid:0.977\n",
      "1425, train:0.9618, valid:0.9778\n",
      "1430, train:0.9634, valid:0.9788\n",
      "1435, train:0.9642, valid:0.979\n",
      "1440, train:0.9646, valid:0.9796\n",
      "save model\n",
      "1445, train:0.9646, valid:0.9792\n",
      "1450, train:0.9648, valid:0.979\n",
      "1455, train:0.9652, valid:0.9794\n",
      "1460, train:0.9614, valid:0.977\n",
      "1465, train:0.9668, valid:0.98\n",
      "save model\n",
      "1470, train:0.9636, valid:0.979\n",
      "1475, train:0.967, valid:0.9768\n",
      "1480, train:0.9658, valid:0.9772\n",
      "1485, train:0.963, valid:0.978\n",
      "1490, train:0.9652, valid:0.9792\n",
      "1495, train:0.9656, valid:0.9796\n",
      "1500, train:0.9664, valid:0.9804\n",
      "save model\n",
      "1505, train:0.964, valid:0.9802\n",
      "1510, train:0.962, valid:0.978\n",
      "1515, train:0.964, valid:0.9782\n",
      "1520, train:0.967, valid:0.9794\n",
      "1525, train:0.967, valid:0.9788\n",
      "1530, train:0.968, valid:0.9792\n",
      "1535, train:0.9656, valid:0.9794\n",
      "1540, train:0.964, valid:0.9792\n",
      "1545, train:0.9688, valid:0.9792\n",
      "1550, train:0.9674, valid:0.9802\n",
      "1555, train:0.9648, valid:0.9792\n",
      "1560, train:0.9686, valid:0.9802\n",
      "1565, train:0.9664, valid:0.9804\n",
      "1570, train:0.9676, valid:0.9802\n",
      "1575, train:0.9668, valid:0.9794\n",
      "1580, train:0.9658, valid:0.9798\n",
      "1585, train:0.9704, valid:0.979\n",
      "1590, train:0.968, valid:0.9792\n",
      "1595, train:0.9688, valid:0.9798\n",
      "1600, train:0.967, valid:0.9796\n",
      "1605, train:0.9662, valid:0.9794\n",
      "1610, train:0.968, valid:0.979\n",
      "1615, train:0.9672, valid:0.9792\n",
      "1620, train:0.9676, valid:0.9794\n",
      "1625, train:0.966, valid:0.9804\n",
      "1630, train:0.967, valid:0.9808\n",
      "save model\n",
      "1635, train:0.9688, valid:0.9798\n",
      "1640, train:0.9666, valid:0.9796\n",
      "1645, train:0.9702, valid:0.9806\n",
      "1650, train:0.9698, valid:0.9814\n",
      "save model\n",
      "1655, train:0.968, valid:0.98\n",
      "1660, train:0.9658, valid:0.9796\n",
      "1665, train:0.9688, valid:0.9808\n",
      "1670, train:0.9686, valid:0.981\n",
      "1675, train:0.97, valid:0.9806\n",
      "1680, train:0.9684, valid:0.9804\n",
      "1685, train:0.9682, valid:0.9798\n",
      "1690, train:0.97, valid:0.9808\n",
      "1695, train:0.9672, valid:0.9808\n",
      "1700, train:0.9666, valid:0.9798\n",
      "1705, train:0.9684, valid:0.9792\n",
      "1710, train:0.9692, valid:0.9802\n",
      "1715, train:0.9662, valid:0.979\n",
      "1720, train:0.9678, valid:0.9804\n",
      "1725, train:0.972, valid:0.9802\n",
      "1730, train:0.9698, valid:0.9788\n",
      "1735, train:0.965, valid:0.9774\n",
      "1740, train:0.9654, valid:0.9778\n",
      "1745, train:0.9656, valid:0.9784\n",
      "1750, train:0.9688, valid:0.9792\n",
      "1755, train:0.9712, valid:0.98\n",
      "1760, train:0.9694, valid:0.9804\n",
      "1765, train:0.9732, valid:0.9808\n",
      "1770, train:0.9694, valid:0.9794\n",
      "1775, train:0.969, valid:0.98\n",
      "1780, train:0.9686, valid:0.9814\n",
      "1785, train:0.9712, valid:0.9794\n",
      "1790, train:0.9668, valid:0.9808\n",
      "1795, train:0.968, valid:0.9812\n",
      "1800, train:0.97, valid:0.9812\n",
      "1805, train:0.9674, valid:0.9796\n",
      "1810, train:0.9662, valid:0.9808\n",
      "1815, train:0.9646, valid:0.9822\n",
      "save model\n",
      "1820, train:0.9654, valid:0.98\n",
      "1825, train:0.9658, valid:0.9806\n",
      "1830, train:0.9682, valid:0.981\n",
      "1835, train:0.9656, valid:0.9802\n",
      "1840, train:0.9674, valid:0.9806\n",
      "1845, train:0.9702, valid:0.9814\n",
      "1850, train:0.9674, valid:0.981\n",
      "1855, train:0.9734, valid:0.9806\n",
      "1860, train:0.967, valid:0.981\n",
      "1865, train:0.9708, valid:0.9816\n",
      "1870, train:0.9726, valid:0.982\n",
      "1875, train:0.9708, valid:0.9826\n",
      "save model\n",
      "1880, train:0.9726, valid:0.9816\n",
      "1885, train:0.9666, valid:0.9826\n",
      "1890, train:0.9714, valid:0.9822\n",
      "1895, train:0.9714, valid:0.9808\n",
      "1900, train:0.968, valid:0.9804\n",
      "1905, train:0.9726, valid:0.9814\n",
      "1910, train:0.9706, valid:0.9822\n",
      "1915, train:0.97, valid:0.9822\n",
      "1920, train:0.9708, valid:0.981\n",
      "1925, train:0.9722, valid:0.9816\n",
      "1930, train:0.9706, valid:0.982\n",
      "1935, train:0.971, valid:0.9818\n",
      "1940, train:0.9718, valid:0.9808\n",
      "1945, train:0.9698, valid:0.9808\n",
      "1950, train:0.9714, valid:0.981\n",
      "1955, train:0.9688, valid:0.9808\n",
      "1960, train:0.9714, valid:0.9814\n",
      "1965, train:0.9732, valid:0.9826\n",
      "1970, train:0.9738, valid:0.9826\n",
      "1975, train:0.9686, valid:0.9826\n",
      "1980, train:0.9722, valid:0.9824\n",
      "1985, train:0.972, valid:0.9826\n",
      "1990, train:0.9696, valid:0.9836\n",
      "save model\n",
      "1995, train:0.9726, valid:0.983\n",
      "2000, train:0.9708, valid:0.9826\n",
      "2005, train:0.9716, valid:0.982\n",
      "2010, train:0.9704, valid:0.9824\n",
      "2015, train:0.9704, valid:0.9822\n",
      "2020, train:0.9706, valid:0.982\n",
      "2025, train:0.9698, valid:0.982\n",
      "2030, train:0.97, valid:0.9816\n",
      "2035, train:0.9728, valid:0.982\n",
      "2040, train:0.9702, valid:0.9816\n",
      "2045, train:0.974, valid:0.9826\n",
      "2050, train:0.9722, valid:0.9816\n",
      "2055, train:0.971, valid:0.9816\n",
      "2060, train:0.972, valid:0.9826\n",
      "2065, train:0.974, valid:0.983\n",
      "2070, train:0.9728, valid:0.9828\n",
      "2075, train:0.9728, valid:0.9826\n",
      "2080, train:0.9692, valid:0.982\n",
      "2085, train:0.9724, valid:0.9816\n",
      "2090, train:0.9728, valid:0.981\n",
      "2095, train:0.9736, valid:0.9822\n",
      "2100, train:0.9736, valid:0.9822\n",
      "2105, train:0.97, valid:0.9816\n",
      "2110, train:0.9742, valid:0.9812\n",
      "2115, train:0.9698, valid:0.9812\n",
      "2120, train:0.9718, valid:0.9812\n",
      "2125, train:0.973, valid:0.981\n",
      "2130, train:0.9738, valid:0.981\n",
      "2135, train:0.9714, valid:0.982\n",
      "2140, train:0.9722, valid:0.982\n",
      "2145, train:0.9736, valid:0.984\n",
      "save model\n",
      "2150, train:0.9742, valid:0.9846\n",
      "save model\n",
      "2155, train:0.9748, valid:0.9832\n",
      "2160, train:0.9718, valid:0.9824\n",
      "2165, train:0.9726, valid:0.9816\n",
      "2170, train:0.9726, valid:0.9808\n",
      "2175, train:0.9728, valid:0.9814\n",
      "2180, train:0.973, valid:0.9818\n",
      "2185, train:0.9738, valid:0.9832\n",
      "2190, train:0.9748, valid:0.9836\n",
      "2195, train:0.9738, valid:0.983\n",
      "2200, train:0.9738, valid:0.9838\n",
      "2205, train:0.9754, valid:0.9842\n",
      "2210, train:0.9768, valid:0.9828\n",
      "2215, train:0.9768, valid:0.9836\n",
      "2220, train:0.973, valid:0.9824\n",
      "2225, train:0.9734, valid:0.9824\n",
      "2230, train:0.9712, valid:0.9832\n",
      "2235, train:0.9748, valid:0.9836\n",
      "2240, train:0.9754, valid:0.9836\n",
      "2245, train:0.9754, valid:0.9832\n",
      "2250, train:0.9744, valid:0.9822\n",
      "2255, train:0.9744, valid:0.9822\n",
      "2260, train:0.9756, valid:0.9822\n",
      "2265, train:0.9718, valid:0.9832\n",
      "2270, train:0.9728, valid:0.9826\n",
      "2275, train:0.9724, valid:0.9828\n",
      "2280, train:0.9768, valid:0.983\n",
      "2285, train:0.9744, valid:0.9824\n",
      "2290, train:0.9754, valid:0.9828\n",
      "2295, train:0.9744, valid:0.9826\n",
      "2300, train:0.977, valid:0.9836\n",
      "2305, train:0.9758, valid:0.983\n",
      "2310, train:0.9764, valid:0.9824\n",
      "2315, train:0.9758, valid:0.9834\n",
      "2320, train:0.9756, valid:0.9828\n",
      "2325, train:0.9738, valid:0.9828\n",
      "2330, train:0.9724, valid:0.983\n",
      "2335, train:0.9724, valid:0.9822\n",
      "2340, train:0.971, valid:0.9806\n",
      "2345, train:0.9764, valid:0.9816\n",
      "2350, train:0.9746, valid:0.9836\n",
      "2355, train:0.976, valid:0.9822\n",
      "2360, train:0.9738, valid:0.9824\n",
      "2365, train:0.976, valid:0.9842\n",
      "2370, train:0.975, valid:0.9832\n",
      "2375, train:0.9766, valid:0.9834\n",
      "2380, train:0.977, valid:0.983\n",
      "2385, train:0.9754, valid:0.9828\n",
      "2390, train:0.975, valid:0.983\n",
      "2395, train:0.9768, valid:0.9838\n",
      "2400, train:0.975, valid:0.984\n",
      "early stop\n"
     ]
    }
   ],
   "source": [
    "patience = 50\n",
    "best_accurarcy = 0\n",
    "i = 0\n",
    "\n",
    "\n",
    "while True:\n",
    "    i += 1\n",
    "    batch_xs, batch_ys = mnist.train.next_batch(100)\n",
    "    sess.run(trainer,  feed_dict={x_: batch_xs, y_: batch_ys, keep_prob:0.5})\n",
    "    if i%5 == 0:\n",
    "        train_accurarcy = sess.run(accuracy, \n",
    "            feed_dict={x_: mnist.validation.images, y_: mnist.validation.labels, keep_prob:0.5})\n",
    "        valid_accurarcy = sess.run(accuracy, \n",
    "            feed_dict={x_: mnist.validation.images, y_: mnist.validation.labels, keep_prob:1})\n",
    "        print \"%s, train:%s, valid:%s\" %(i,train_accurarcy, valid_accurarcy)\n",
    "        if valid_accurarcy > best_accurarcy:\n",
    "            patience = 50\n",
    "            best_accurarcy = valid_accurarcy\n",
    "            print \"save model\"\n",
    "            saver.save(sess, \"model_conv.ckpt\")\n",
    "        else:\n",
    "            patience -= 1\n",
    "            if patience == 0:\n",
    "                print \"early stop\"\n",
    "                break"
   ]
  },
  {
   "cell_type": "code",
   "execution_count": 15,
   "metadata": {
    "collapsed": false
   },
   "outputs": [
    {
     "name": "stdout",
     "output_type": "stream",
     "text": [
      "valid:0.9846, test:0.9828\n"
     ]
    }
   ],
   "source": [
    "saver.restore(sess, \"model_conv.ckpt\")\n",
    "valid_accurarcy = sess.run(accuracy, feed_dict={x_: mnist.validation.images, y_: mnist.validation.labels, keep_prob:1})\n",
    "test_accurarcy = sess.run(accuracy, feed_dict={x_: mnist.test.images, y_: mnist.test.labels, keep_prob:1})\n",
    "print \"valid:%s, test:%s\"%(valid_accurarcy,test_accurarcy)"
   ]
  },
  {
   "cell_type": "code",
   "execution_count": null,
   "metadata": {
    "collapsed": true
   },
   "outputs": [],
   "source": []
  }
 ],
 "metadata": {
  "kernelspec": {
   "display_name": "Python 2",
   "language": "python",
   "name": "python2"
  },
  "language_info": {
   "codemirror_mode": {
    "name": "ipython",
    "version": 2
   },
   "file_extension": ".py",
   "mimetype": "text/x-python",
   "name": "python",
   "nbconvert_exporter": "python",
   "pygments_lexer": "ipython2",
   "version": "2.7.10"
  }
 },
 "nbformat": 4,
 "nbformat_minor": 0
}
