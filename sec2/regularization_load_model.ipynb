{
 "cells": [
  {
   "cell_type": "markdown",
   "metadata": {},
   "source": [
    "# 多層感知器Regularization實作 模型載入\n"
   ]
  },
  {
   "cell_type": "markdown",
   "metadata": {},
   "source": [
    "## 載入套件"
   ]
  },
  {
   "cell_type": "code",
   "execution_count": 1,
   "metadata": {
    "collapsed": false
   },
   "outputs": [
    {
     "name": "stdout",
     "output_type": "stream",
     "text": [
      "Extracting MNIST_data/train-images-idx3-ubyte.gz\n",
      "Extracting MNIST_data/train-labels-idx1-ubyte.gz\n",
      "Extracting MNIST_data/t10k-images-idx3-ubyte.gz\n",
      "Extracting MNIST_data/t10k-labels-idx1-ubyte.gz\n"
     ]
    }
   ],
   "source": [
    "import tensorflow as tf\n",
    "import input_data\n",
    "tf.set_random_seed(1234)\n",
    "\n",
    "mnist = input_data.read_data_sets('MNIST_data', one_hot=True)"
   ]
  },
  {
   "cell_type": "markdown",
   "metadata": {},
   "source": [
    "## 訓練資料"
   ]
  },
  {
   "cell_type": "code",
   "execution_count": 2,
   "metadata": {
    "collapsed": true
   },
   "outputs": [],
   "source": [
    "batch_xs, batch_ys = mnist.train.next_batch(5)"
   ]
  },
  {
   "cell_type": "markdown",
   "metadata": {},
   "source": [
    "## 建立Computational Graph"
   ]
  },
  {
   "cell_type": "code",
   "execution_count": 3,
   "metadata": {
    "collapsed": true
   },
   "outputs": [],
   "source": [
    "x_ = tf.placeholder(tf.float32, [None, 784], name=\"x_\")\n",
    "y_ = tf.placeholder(tf.float32, [None, 10], name=\"y_\")\n",
    "\n",
    "W1 = tf.Variable(tf.truncated_normal([784,800], stddev=0.1), name=\"W1\")\n",
    "b1 = tf.Variable(tf.zeros([800]), name=\"b1\")\n",
    "h1 = tf.nn.sigmoid(tf.matmul(x_, W1) + b1)\n",
    "\n",
    "W2 = tf.Variable(tf.truncated_normal([800,10], stddev=0.1), name=\"W2\")\n",
    "b2 = tf.Variable(tf.zeros([10]), name=\"b2\")\n",
    "y = tf.nn.softmax(tf.matmul(h1, W2) + b2)\n",
    "\n",
    "cross_entropy = -tf.reduce_sum(y_ * tf.log(y))\n",
    "\n",
    "lambda_ = tf.placeholder(tf.float32, name=\"lambda\")\n",
    "regularizer = tf.reduce_sum(tf.square(W1))+tf.reduce_sum(tf.square(W2))\n",
    "\n",
    "cost = cross_entropy + lambda_*regularizer\n",
    "\n",
    "\n",
    "optimizer = tf.train.GradientDescentOptimizer(0.003)\n",
    "trainer = optimizer.minimize(cost)\n",
    "\n",
    "init = tf.initialize_all_variables()\n",
    "correct_prediction = tf.equal(tf.argmax(y, 1), tf.argmax(y_, 1))\n",
    "accuracy = tf.reduce_mean(tf.cast(correct_prediction, tf.float32))"
   ]
  },
  {
   "cell_type": "markdown",
   "metadata": {},
   "source": [
    "## Session"
   ]
  },
  {
   "cell_type": "code",
   "execution_count": 4,
   "metadata": {
    "collapsed": true
   },
   "outputs": [],
   "source": [
    "sess = tf.Session()\n",
    "sess.run(init)"
   ]
  },
  {
   "cell_type": "markdown",
   "metadata": {},
   "source": [
    "## 建立成效評估用的Computational Graph"
   ]
  },
  {
   "cell_type": "code",
   "execution_count": 5,
   "metadata": {
    "collapsed": true
   },
   "outputs": [],
   "source": [
    "correct_prediction = tf.equal(tf.argmax(y, 1), tf.argmax(y_, 1))\n",
    "accuracy = tf.reduce_mean(tf.cast(correct_prediction, tf.float32))"
   ]
  },
  {
   "cell_type": "markdown",
   "metadata": {},
   "source": [
    "## Saver"
   ]
  },
  {
   "cell_type": "code",
   "execution_count": 6,
   "metadata": {
    "collapsed": true
   },
   "outputs": [],
   "source": [
    "saver = tf.train.Saver(max_to_keep=10)\n"
   ]
  },
  {
   "cell_type": "markdown",
   "metadata": {},
   "source": [
    "## 模型載入＆模型選擇"
   ]
  },
  {
   "cell_type": "code",
   "execution_count": 7,
   "metadata": {
    "collapsed": false
   },
   "outputs": [
    {
     "name": "stdout",
     "output_type": "stream",
     "text": [
      "lambda:0 valid:0.9754, test:0.9731\n",
      "lambda:1e-05 valid:0.975, test:0.9717\n",
      "lambda:0.0001 valid:0.9774, test:0.9736\n",
      "lambda:0.001 valid:0.976, test:0.9722\n",
      "lambda:0.01 valid:0.9724, test:0.9683\n",
      "lambda:0.1 valid:0.9204, test:0.9108\n"
     ]
    }
   ],
   "source": [
    "lambdas = [0,0.00001,0.0001,0.001,0.01,0.1]\n",
    "\n",
    "for lamb in lambdas:\n",
    "    model_name = \"model_regularization_%s.ckpt\"%( str(lamb).replace(\".\",\"\") )\n",
    "    saver.restore(sess, model_name)\n",
    "    \n",
    "    valid_accurarcy = sess.run(accuracy, feed_dict={x_: mnist.validation.images, y_: mnist.validation.labels, lambda_:lamb})\n",
    "    test_accurarcy = sess.run(accuracy, feed_dict={x_: mnist.test.images, y_: mnist.test.labels, lambda_:lamb})\n",
    "    print \"lambda:%s valid:%s, test:%s\"%(lamb, valid_accurarcy,test_accurarcy)"
   ]
  },
  {
   "cell_type": "code",
   "execution_count": null,
   "metadata": {
    "collapsed": true
   },
   "outputs": [],
   "source": []
  }
 ],
 "metadata": {
  "kernelspec": {
   "display_name": "Python 2",
   "language": "python",
   "name": "python2"
  },
  "language_info": {
   "codemirror_mode": {
    "name": "ipython",
    "version": 2
   },
   "file_extension": ".py",
   "mimetype": "text/x-python",
   "name": "python",
   "nbconvert_exporter": "python",
   "pygments_lexer": "ipython2",
   "version": "2.7.10"
  }
 },
 "nbformat": 4,
 "nbformat_minor": 0
}
