{
 "cells": [
  {
   "cell_type": "markdown",
   "metadata": {},
   "source": [
    "# 單層感知器TensorBoard"
   ]
  },
  {
   "cell_type": "code",
   "execution_count": 1,
   "metadata": {
    "collapsed": false
   },
   "outputs": [
    {
     "name": "stdout",
     "output_type": "stream",
     "text": [
      "Successfully downloaded train-images-idx3-ubyte.gz 9912422 bytes.\n",
      "Extracting MNIST_data/train-images-idx3-ubyte.gz\n",
      "Successfully downloaded train-labels-idx1-ubyte.gz 28881 bytes.\n",
      "Extracting MNIST_data/train-labels-idx1-ubyte.gz\n",
      "Successfully downloaded t10k-images-idx3-ubyte.gz 1648877 bytes.\n",
      "Extracting MNIST_data/t10k-images-idx3-ubyte.gz\n",
      "Successfully downloaded t10k-labels-idx1-ubyte.gz 4542 bytes.\n",
      "Extracting MNIST_data/t10k-labels-idx1-ubyte.gz\n"
     ]
    }
   ],
   "source": [
    "import tensorflow as tf\n",
    "import input_data\n",
    "\n",
    "mnist = input_data.read_data_sets('MNIST_data', one_hot=True)"
   ]
  },
  {
   "cell_type": "code",
   "execution_count": 2,
   "metadata": {
    "collapsed": false
   },
   "outputs": [],
   "source": [
    "x_ = tf.placeholder(tf.float32, [None, 784], name=\"x_\")\n",
    "y_ = tf.placeholder(tf.float32, [None, 10], name=\"y_\")\n",
    "\n",
    "W = tf.Variable(tf.zeros([784, 10]), name=\"W\")\n",
    "b = tf.Variable(tf.zeros([10]), name=\"b\")\n",
    "y = tf.nn.softmax(tf.matmul(x_, W) + b)\n",
    "\n",
    "with tf.name_scope(\"cross_entropy\") as scope:\n",
    "    cross_entropy = -tf.reduce_sum(y_ * tf.log(y))\n",
    "\n",
    "with tf.name_scope(\"trainer\") as scope:\n",
    "    optimizer = tf.train.GradientDescentOptimizer(0.01)\n",
    "    trainer = optimizer.minimize(cross_entropy)\n",
    "\n",
    "with tf.name_scope(\"evaluator\") as scope:\n",
    "    correct_prediction = tf.equal(tf.argmax(y, 1), tf.argmax(y_, 1))\n",
    "    accuracy = tf.reduce_mean(tf.cast(correct_prediction, tf.float32))\n",
    "\n",
    "\n",
    "summ_W = tf.histogram_summary(\"weights\", W)\n",
    "summ_b = tf.histogram_summary(\"biases\", b)\n",
    "summ_ce = tf.scalar_summary(\"cross_entropy\", cross_entropy)\n",
    "summ_acc = tf.scalar_summary(\"accuracy\", accuracy)\n",
    "\n",
    "summ_merged = tf.merge_summary([summ_W, summ_b, summ_ce])\n",
    "\n",
    "\n",
    "with tf.name_scope(\"initializer\") as scope:\n",
    "    init = tf.initialize_all_variables()\n"
   ]
  },
  {
   "cell_type": "code",
   "execution_count": 3,
   "metadata": {
    "collapsed": false
   },
   "outputs": [],
   "source": [
    "sess = tf.Session()\n",
    "sess.run(init)\n",
    "writer = tf.train.SummaryWriter(\"./\", sess.graph_def)\n",
    "\n",
    "\n",
    "for i in range(1000):\n",
    "    batch_xs, batch_ys = mnist.train.next_batch(100)\n",
    "    result1 = sess.run(tf.log(y),  feed_dict={x_: batch_xs, y_: batch_ys})\n",
    "    result2 = sess.run(y_ * tf.log(y),  feed_dict={x_: batch_xs, y_: batch_ys})\n",
    "    sess.run(trainer,  feed_dict={x_: batch_xs, y_: batch_ys})\n",
    "    summ_str = sess.run(summ_merged,feed_dict={x_:batch_xs,y_:batch_ys})\n",
    "    writer.add_summary(summ_str, i)\n",
    "    if (i+1)%5 == 0:\n",
    "        summary_str = sess.run(summ_acc,feed_dict={x_:mnist.test.images,y_:mnist.test.labels})\n",
    "        writer.add_summary(summ_str, i)\n",
    "\n"
   ]
  },
  {
   "cell_type": "code",
   "execution_count": null,
   "metadata": {
    "collapsed": true
   },
   "outputs": [],
   "source": []
  }
 ],
 "metadata": {
  "kernelspec": {
   "display_name": "Python 2",
   "language": "python",
   "name": "python2"
  },
  "language_info": {
   "codemirror_mode": {
    "name": "ipython",
    "version": 2
   },
   "file_extension": ".py",
   "mimetype": "text/x-python",
   "name": "python",
   "nbconvert_exporter": "python",
   "pygments_lexer": "ipython2",
   "version": "2.7.10"
  }
 },
 "nbformat": 4,
 "nbformat_minor": 0
}
